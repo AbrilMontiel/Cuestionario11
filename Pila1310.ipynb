{
  "nbformat": 4,
  "nbformat_minor": 0,
  "metadata": {
    "colab": {
      "name": "Pila1310.ipynb",
      "provenance": [],
      "collapsed_sections": [],
      "authorship_tag": "ABX9TyN9H6nJtnS8Lqaw54kfccpm",
      "include_colab_link": true
    },
    "kernelspec": {
      "name": "python3",
      "display_name": "Python 3"
    },
    "language_info": {
      "name": "python"
    }
  },
  "cells": [
    {
      "cell_type": "markdown",
      "metadata": {
        "id": "view-in-github",
        "colab_type": "text"
      },
      "source": [
        "<a href=\"https://colab.research.google.com/github/AbrilMontiel/Cuestionario11/blob/master/Pila1310.ipynb\" target=\"_parent\"><img src=\"https://colab.research.google.com/assets/colab-badge.svg\" alt=\"Open In Colab\"/></a>"
      ]
    },
    {
      "cell_type": "code",
      "metadata": {
        "id": "Iao5PgjRM0XL"
      },
      "source": [
        "class StackADT:\n",
        "  def __init__( self ):\n",
        "    self.__data = list()\n",
        "\n",
        "  def is_empty( self ): #refresa true si la lista esta vacia\n",
        "    return len( self.__data ) == 0\n",
        "\n",
        "  def get_length( self ):\n",
        "    return len( self.__data )\n",
        "\n",
        "  def pop( self ):\n",
        "    if self.is_empty():\n",
        "      print(\"Pila vacia, nada que sacar\")\n",
        "    else:\n",
        "      return self.__data.pop()\n",
        "\n",
        "  def peek( self ):\n",
        "    if self.is_empty():\n",
        "      print(\"Pila vacia, nada que sacar\")\n",
        "    else:\n",
        "      return self.__data[ -1 ]\n",
        "  \n",
        "  def push( self, value ):\n",
        "    self.__data.append( value )\n",
        "\n",
        "  def to_string( self ):\n",
        "    for item in self.__data[ ::-1 ]:\n",
        "      print(f\" | { item } | \")\n",
        "\n"
      ],
      "execution_count": 4,
      "outputs": []
    },
    {
      "cell_type": "code",
      "metadata": {
        "colab": {
          "base_uri": "https://localhost:8080/"
        },
        "id": "17kUHH1TQd36",
        "outputId": "1887ccd1-3ba8-4db5-b5d9-bd65f095ab35"
      },
      "source": [
        "pila = StackADT()\n",
        "print(\"¿Esta vacia?\" , pila.is_empty() )\n",
        "print(\"Elementos\" , pila.get_length() )\n",
        "pila.push( 10 )\n",
        "print(\"¿Esta vacia?\" , pila.is_empty() )\n",
        "print(\"Elementos\" , pila.get_length() )\n",
        "pila.push( 20 )\n",
        "pila.push( 30 )\n",
        "pila.push( 40 )\n",
        "pila.to_string()\n",
        "print( pila.pop() ) #40\n",
        "print( pila.peek() ) #30\n",
        "pila.to_string()"
      ],
      "execution_count": 5,
      "outputs": [
        {
          "output_type": "stream",
          "name": "stdout",
          "text": [
            "¿Esta vacia? True\n",
            "Elementos 0\n",
            "¿Esta vacia? False\n",
            "Elementos 1\n",
            " | 40 | \n",
            " | 30 | \n",
            " | 20 | \n",
            " | 10 | \n",
            "40\n",
            "30\n",
            " | 30 | \n",
            " | 20 | \n",
            " | 10 | \n"
          ]
        }
      ]
    },
    {
      "cell_type": "markdown",
      "metadata": {
        "id": "roZWwoJGyuZ4"
      },
      "source": [
        "#Aplicacion de pilas, balanceo de llaves en programacion\n"
      ]
    },
    {
      "cell_type": "code",
      "metadata": {
        "colab": {
          "base_uri": "https://localhost:8080/"
        },
        "id": "JL2Q65n7yyPe",
        "outputId": "1ec50d68-d8af-444e-8ad8-3270fca73686"
      },
      "source": [
        "!cat prog.txt"
      ],
      "execution_count": 6,
      "outputs": [
        {
          "output_type": "stream",
          "name": "stdout",
          "text": [
            "#include <stdio.h>\n",
            "\n",
            "int main()\n",
            "{\n",
            "    int num, count, sum = 0;\n",
            "\n",
            "    printf(\"Enter a positive integer: \");\n",
            "    scanf(\"%d\", &num);\n",
            "\n",
            "    // for loop terminates when num is less than count\n",
            "    for(count = 1; count <= num; ++count)\n",
            "    {\n",
            "        sum += count;\n",
            "    }\n",
            "\n",
            "    printf(\"Sum = %d\", sum);\n",
            "\n",
            "    return 0;\n",
            "}"
          ]
        }
      ]
    },
    {
      "cell_type": "code",
      "metadata": {
        "colab": {
          "base_uri": "https://localhost:8080/"
        },
        "id": "Kwe_YQxGzy0B",
        "outputId": "6d9d723c-3df1-4d19-a48c-bb4136a2b086"
      },
      "source": [
        "entrada = open( 'prog.txt', 'rt' )\n",
        "codigo = entrada.read()\n",
        "#print( codigo )\n",
        "pilaControl = StackADT()\n",
        "pilaControl.push( '#' ) #caracter de pila vacia\n",
        "\n",
        "for letra in codigo:\n",
        "  #print( f\" --> { letra } <-- \")\n",
        "  if letra == '{' :   # Regla 1\n",
        "    pilaControl.push( \"{\" )\n",
        "  elif letra == '}':  # Regla 2\n",
        "    basura = pilaControl.pop()\n",
        "  else:\n",
        "    pass\n",
        "#NOTA: Este codigo aun no contempla desbalanceo de mas llaves de cierre\n",
        "\n",
        "if pilaControl.peek() == '#':\n",
        "  print(\"El codigo proporcionado esta correctamente balanceado\")\n",
        "else:\n",
        "  print(\"El codigo no esta balanceado en llaves { y } \")"
      ],
      "execution_count": 12,
      "outputs": [
        {
          "output_type": "stream",
          "name": "stdout",
          "text": [
            "El codigo proporcionado esta correctamente balanceado\n"
          ]
        }
      ]
    },
    {
      "cell_type": "markdown",
      "metadata": {
        "id": "dvUMZGFz7HJy"
      },
      "source": [
        "#Aplicacion de pilas\n",
        "##Estrategia de diseño de algoritmos BACKTRACKING"
      ]
    },
    {
      "cell_type": "code",
      "metadata": {
        "id": "h6GXNtjd7UJL"
      },
      "source": [
        ""
      ],
      "execution_count": null,
      "outputs": []
    }
  ]
}